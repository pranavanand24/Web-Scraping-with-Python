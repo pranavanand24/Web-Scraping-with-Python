{
 "cells": [
  {
   "cell_type": "code",
   "execution_count": 33,
   "id": "98dcbf09",
   "metadata": {},
   "outputs": [],
   "source": [
    "from bs4 import BeautifulSoup"
   ]
  },
  {
   "cell_type": "code",
   "execution_count": 47,
   "id": "bdab4faa",
   "metadata": {},
   "outputs": [],
   "source": [
    "import re"
   ]
  },
  {
   "cell_type": "code",
   "execution_count": 48,
   "id": "6e6854d5",
   "metadata": {},
   "outputs": [],
   "source": [
    "with open(\"index2.html\", \"r\") as f:\n",
    "    doc = BeautifulSoup(f, \"html.parser\")"
   ]
  },
  {
   "cell_type": "code",
   "execution_count": 49,
   "id": "6f117b3f",
   "metadata": {},
   "outputs": [],
   "source": [
    "tag = doc.find(\"option\")"
   ]
  },
  {
   "cell_type": "code",
   "execution_count": 50,
   "id": "533d142d",
   "metadata": {},
   "outputs": [],
   "source": [
    "tag['selected'] = 'new value'"
   ]
  },
  {
   "cell_type": "code",
   "execution_count": 51,
   "id": "ad749577",
   "metadata": {},
   "outputs": [],
   "source": [
    "tag['color'] = \"blue\""
   ]
  },
  {
   "cell_type": "code",
   "execution_count": 52,
   "id": "b1103fab",
   "metadata": {},
   "outputs": [
    {
     "name": "stdout",
     "output_type": "stream",
     "text": [
      "<option color=\"blue\" selected=\"new value\" value=\"course-type\">Course type*</option>\n"
     ]
    }
   ],
   "source": [
    "print(tag)"
   ]
  },
  {
   "cell_type": "code",
   "execution_count": 53,
   "id": "18de9680",
   "metadata": {},
   "outputs": [
    {
     "name": "stdout",
     "output_type": "stream",
     "text": [
      "{'value': 'course-type', 'selected': 'new value', 'color': 'blue'}\n"
     ]
    }
   ],
   "source": [
    "print(tag.attrs)"
   ]
  },
  {
   "cell_type": "code",
   "execution_count": 54,
   "id": "4dd34fe9",
   "metadata": {},
   "outputs": [],
   "source": [
    "tags = doc.find_all([\"p\",\"div\",\"li\"])\n"
   ]
  },
  {
   "cell_type": "code",
   "execution_count": 55,
   "id": "d79417aa",
   "metadata": {},
   "outputs": [
    {
     "name": "stdout",
     "output_type": "stream",
     "text": [
      "[<div class=\"main-block\">\n",
      "<div class=\"left-part\">\n",
      "<i class=\"fas fa-graduation-cap\"></i>\n",
      "<h1>Register to our courses</h1>\n",
      "<p>W3docs provides free learning materials for programming languages like HTML, CSS, Java Script, PHP etc.</p>\n",
      "<div class=\"btn-group\">\n",
      "<a class=\"btn-item\" href=\"https://www.w3docs.com/learn-html.html\">Learn HTML</a>\n",
      "<a class=\"btn-item\" href=\"https://www.w3docs.com/quiz/#\">Select Quiz</a>\n",
      "</div>\n",
      "        $2345\n",
      "      </div>\n",
      "<form action=\"/\">\n",
      "<div class=\"title\">\n",
      "<i class=\"fas fa-pencil-alt\"></i>\n",
      "<h2>Register here</h2>\n",
      "</div>\n",
      "        $123\n",
      "        <div class=\"info\">\n",
      "<input class=\"fname\" name=\"name\" placeholder=\"Full name\" type=\"text\"/>\n",
      "<input name=\"name\" placeholder=\"Email\" type=\"text\"/>\n",
      "<input name=\"name\" placeholder=\"Phone number\" type=\"text\"/>\n",
      "<input name=\"name\" placeholder=\"Password\" type=\"password\"/>\n",
      "<select>\n",
      "<option color=\"blue\" selected=\"new value\" value=\"course-type\">Course type*</option>\n",
      "<option value=\"short-courses\">Short courses</option>\n",
      "<option value=\"featured-courses\">Featured courses</option>\n",
      "<option value=\"undergraduate\">Undergraduate</option>\n",
      "<option value=\"diploma\">Diploma</option>\n",
      "<option value=\"certificate\">Certificate</option>\n",
      "<option value=\"masters-degree\">Masters degree</option>\n",
      "<option value=\"postgraduate\">Postgraduate</option>\n",
      "</select>\n",
      "</div>\n",
      "<div class=\"checkbox\">\n",
      "<input name=\"checkbox\" type=\"checkbox\"/><span>I agree to the <a href=\"https://www.w3docs.com/privacy-policy\">Privacy Poalicy for W3Docs.</a></span>\n",
      "</div>\n",
      "<button href=\"/\" type=\"submit\">Submit</button>\n",
      "</form>\n",
      "</div>, <div class=\"left-part\">\n",
      "<i class=\"fas fa-graduation-cap\"></i>\n",
      "<h1>Register to our courses</h1>\n",
      "<p>W3docs provides free learning materials for programming languages like HTML, CSS, Java Script, PHP etc.</p>\n",
      "<div class=\"btn-group\">\n",
      "<a class=\"btn-item\" href=\"https://www.w3docs.com/learn-html.html\">Learn HTML</a>\n",
      "<a class=\"btn-item\" href=\"https://www.w3docs.com/quiz/#\">Select Quiz</a>\n",
      "</div>\n",
      "        $2345\n",
      "      </div>, <p>W3docs provides free learning materials for programming languages like HTML, CSS, Java Script, PHP etc.</p>, <div class=\"btn-group\">\n",
      "<a class=\"btn-item\" href=\"https://www.w3docs.com/learn-html.html\">Learn HTML</a>\n",
      "<a class=\"btn-item\" href=\"https://www.w3docs.com/quiz/#\">Select Quiz</a>\n",
      "</div>, <div class=\"title\">\n",
      "<i class=\"fas fa-pencil-alt\"></i>\n",
      "<h2>Register here</h2>\n",
      "</div>, <div class=\"info\">\n",
      "<input class=\"fname\" name=\"name\" placeholder=\"Full name\" type=\"text\"/>\n",
      "<input name=\"name\" placeholder=\"Email\" type=\"text\"/>\n",
      "<input name=\"name\" placeholder=\"Phone number\" type=\"text\"/>\n",
      "<input name=\"name\" placeholder=\"Password\" type=\"password\"/>\n",
      "<select>\n",
      "<option color=\"blue\" selected=\"new value\" value=\"course-type\">Course type*</option>\n",
      "<option value=\"short-courses\">Short courses</option>\n",
      "<option value=\"featured-courses\">Featured courses</option>\n",
      "<option value=\"undergraduate\">Undergraduate</option>\n",
      "<option value=\"diploma\">Diploma</option>\n",
      "<option value=\"certificate\">Certificate</option>\n",
      "<option value=\"masters-degree\">Masters degree</option>\n",
      "<option value=\"postgraduate\">Postgraduate</option>\n",
      "</select>\n",
      "</div>, <div class=\"checkbox\">\n",
      "<input name=\"checkbox\" type=\"checkbox\"/><span>I agree to the <a href=\"https://www.w3docs.com/privacy-policy\">Privacy Poalicy for W3Docs.</a></span>\n",
      "</div>]\n"
     ]
    }
   ],
   "source": [
    "print(tags)"
   ]
  },
  {
   "cell_type": "code",
   "execution_count": 56,
   "id": "01bb7ed1",
   "metadata": {},
   "outputs": [],
   "source": [
    "tags1 = doc.find_all([\"option\"],text=\"Undergraduate\", value=\"undergraduate\")"
   ]
  },
  {
   "cell_type": "code",
   "execution_count": 57,
   "id": "fe3e27bb",
   "metadata": {},
   "outputs": [
    {
     "name": "stdout",
     "output_type": "stream",
     "text": [
      "[<option value=\"undergraduate\">Undergraduate</option>]\n"
     ]
    }
   ],
   "source": [
    "print(tags1)"
   ]
  },
  {
   "cell_type": "code",
   "execution_count": 58,
   "id": "ce52f73e",
   "metadata": {},
   "outputs": [],
   "source": [
    "tags2 = doc.find_all(class_=\"btn-item\")"
   ]
  },
  {
   "cell_type": "code",
   "execution_count": 59,
   "id": "ee68acbe",
   "metadata": {},
   "outputs": [
    {
     "name": "stdout",
     "output_type": "stream",
     "text": [
      "[<a class=\"btn-item\" href=\"https://www.w3docs.com/learn-html.html\">Learn HTML</a>, <a class=\"btn-item\" href=\"https://www.w3docs.com/quiz/#\">Select Quiz</a>]\n"
     ]
    }
   ],
   "source": [
    "print(tags2)"
   ]
  },
  {
   "cell_type": "code",
   "execution_count": 65,
   "id": "093ccd79",
   "metadata": {},
   "outputs": [],
   "source": [
    "tags3 = doc.find_all(text=re.compile(\"\\$.*\"), limit=1)"
   ]
  },
  {
   "cell_type": "code",
   "execution_count": 66,
   "id": "4debf7c1",
   "metadata": {},
   "outputs": [
    {
     "name": "stdout",
     "output_type": "stream",
     "text": [
      "$2345\n"
     ]
    }
   ],
   "source": [
    "for tag in tags3:\n",
    "    print(tag.strip())"
   ]
  }
 ],
 "metadata": {
  "kernelspec": {
   "display_name": "Python 3 (ipykernel)",
   "language": "python",
   "name": "python3"
  },
  "language_info": {
   "codemirror_mode": {
    "name": "ipython",
    "version": 3
   },
   "file_extension": ".py",
   "mimetype": "text/x-python",
   "name": "python",
   "nbconvert_exporter": "python",
   "pygments_lexer": "ipython3",
   "version": "3.9.7"
  }
 },
 "nbformat": 4,
 "nbformat_minor": 5
}
