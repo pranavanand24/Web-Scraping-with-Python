{
 "cells": [
  {
   "cell_type": "code",
   "execution_count": 1,
   "id": "0cc9c3a1",
   "metadata": {},
   "outputs": [],
   "source": [
    "from bs4 import BeautifulSoup"
   ]
  },
  {
   "cell_type": "code",
   "execution_count": 2,
   "id": "9dde1ea7",
   "metadata": {},
   "outputs": [],
   "source": [
    "import requests"
   ]
  },
  {
   "cell_type": "code",
   "execution_count": 4,
   "id": "21f09e30",
   "metadata": {},
   "outputs": [],
   "source": [
    "url = \"https://www.newegg.ca/gigabyte-geforce-rtx-3080-ti-gv-n308tgaming-oc-12gd/p/N82E16814932436?Description=3080&cm_re=3080-_-14-932-436-_-Product\""
   ]
  },
  {
   "cell_type": "code",
   "execution_count": 5,
   "id": "e1d3cdd3",
   "metadata": {},
   "outputs": [],
   "source": [
    "results = requests.get(url)"
   ]
  },
  {
   "cell_type": "code",
   "execution_count": 8,
   "id": "c72c46ec",
   "metadata": {},
   "outputs": [],
   "source": [
    "doc = BeautifulSoup(results.text, \"html.parser\")"
   ]
  },
  {
   "cell_type": "code",
   "execution_count": 9,
   "id": "eb73f041",
   "metadata": {},
   "outputs": [],
   "source": [
    "prices = doc.find_all(text=\"$\")"
   ]
  },
  {
   "cell_type": "code",
   "execution_count": 10,
   "id": "920daf2c",
   "metadata": {},
   "outputs": [],
   "source": [
    "parent = prices[0].parent"
   ]
  },
  {
   "cell_type": "code",
   "execution_count": 11,
   "id": "df55c834",
   "metadata": {},
   "outputs": [],
   "source": [
    "strong = parent.find(\"strong\")"
   ]
  },
  {
   "cell_type": "code",
   "execution_count": 13,
   "id": "45288b6b",
   "metadata": {},
   "outputs": [
    {
     "name": "stdout",
     "output_type": "stream",
     "text": [
      "2,628\n"
     ]
    }
   ],
   "source": [
    "# finding the price of the gpu mentioned in dollars\n",
    "print(strong.string)"
   ]
  }
 ],
 "metadata": {
  "kernelspec": {
   "display_name": "Python 3 (ipykernel)",
   "language": "python",
   "name": "python3"
  },
  "language_info": {
   "codemirror_mode": {
    "name": "ipython",
    "version": 3
   },
   "file_extension": ".py",
   "mimetype": "text/x-python",
   "name": "python",
   "nbconvert_exporter": "python",
   "pygments_lexer": "ipython3",
   "version": "3.9.7"
  }
 },
 "nbformat": 4,
 "nbformat_minor": 5
}
