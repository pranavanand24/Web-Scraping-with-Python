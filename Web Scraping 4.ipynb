{
 "cells": [
  {
   "cell_type": "code",
   "execution_count": 1,
   "id": "17a67226",
   "metadata": {},
   "outputs": [],
   "source": [
    "from bs4 import BeautifulSoup"
   ]
  },
  {
   "cell_type": "code",
   "execution_count": 2,
   "id": "a698bf7a",
   "metadata": {},
   "outputs": [],
   "source": [
    "import requests"
   ]
  },
  {
   "cell_type": "code",
   "execution_count": 3,
   "id": "c8c7a2e0",
   "metadata": {},
   "outputs": [],
   "source": [
    "url = \"https://coinmarketcap.com/\""
   ]
  },
  {
   "cell_type": "code",
   "execution_count": 4,
   "id": "bf51c061",
   "metadata": {},
   "outputs": [],
   "source": [
    "result = requests.get(url).text"
   ]
  },
  {
   "cell_type": "code",
   "execution_count": 5,
   "id": "eba94df7",
   "metadata": {},
   "outputs": [],
   "source": [
    "doc = BeautifulSoup(result, \"html.parser\")"
   ]
  },
  {
   "cell_type": "code",
   "execution_count": 6,
   "id": "9943e821",
   "metadata": {},
   "outputs": [],
   "source": [
    "tbody = doc.tbody"
   ]
  },
  {
   "cell_type": "code",
   "execution_count": 8,
   "id": "bb4c749b",
   "metadata": {},
   "outputs": [],
   "source": [
    "trs = tbody.contents"
   ]
  },
  {
   "cell_type": "code",
   "execution_count": 9,
   "id": "1dfef979",
   "metadata": {},
   "outputs": [
    {
     "name": "stdout",
     "output_type": "stream",
     "text": [
      "<tr><td><span class=\"sc-80eeb0-1 iuAjRY\"><span class=\"icon-Star\"></span></span></td><td style=\"text-align:left\"><p class=\"sc-1eb5slv-0 etpvrL\" color=\"text2\" font-size=\"0\">2</p></td><td style=\"text-align:left\"><div class=\"sc-16r8icm-0 escjiH\" display=\"flex\"><a class=\"cmc-link\" href=\"/currencies/ethereum/\"><div class=\"sc-16r8icm-0 sc-1teo54s-0 dBKWCw\"><img alt=\"ETH logo\" class=\"coin-logo\" loading=\"lazy\" src=\"https://s2.coinmarketcap.com/static/img/coins/64x64/1027.png\"/><div class=\"sc-16r8icm-0 sc-1teo54s-1 dNOTPP\"><p class=\"sc-1eb5slv-0 iworPT\" color=\"text\" font-size=\"1\" font-weight=\"semibold\">Ethereum</p><div class=\"sc-1teo54s-2 fZIJcI\"><div class=\"sc-1teo54s-3 etWhyV\">2</div><p class=\"sc-1eb5slv-0 gGIpIK coin-item-symbol\" color=\"text3\" font-size=\"1\">ETH</p></div></div></div></a><div class=\"sc-16r8icm-0 bKmQGi\"><div><div class=\"sc-1x3bens-0 hRpznX\"><button class=\"x0o17e-0 kPvqGV\" style=\"white-space:nowrap;background:var(--theme-light-blue);color:var(--theme-light-blue-font)\">Buy</button></div></div></div></div></td><td><div class=\"sc-131di3y-0 cLgOOr\"><a class=\"cmc-link\" href=\"/currencies/ethereum/markets/\"><span>$3,140.42</span></a></div></td><td style=\"text-align:right\"><span class=\"sc-15yy2pl-0 kAXKAX\"><span class=\"icon-Caret-up\"></span>0.39<!-- -->%</span></td><td style=\"text-align:right\"><span class=\"sc-15yy2pl-0 hzgCfk\"><span class=\"icon-Caret-down\"></span>6.64<!-- -->%</span></td><td style=\"text-align:right\"><p class=\"sc-1eb5slv-0 hykWbK\" color=\"text\" font-size=\"1\" style=\"white-space:nowrap\"><span class=\"sc-1ow4cwt-0 iosgXe\">$374.46B</span><span class=\"sc-1ow4cwt-1 ieFnWP\">$374,455,120,532</span></p></td><td style=\"text-align:right\"><div class=\"sc-16r8icm-0 j3nwcd-0 cRcnjD\"><a class=\"cmc-link\" href=\"/currencies/ethereum/markets/\"><p class=\"sc-1eb5slv-0 hykWbK font_weight_500\" color=\"text\" font-size=\"1\">$8,646,221,877</p></a><p class=\"sc-1eb5slv-0 etpvrL\" color=\"text2\" font-size=\"0\">2,753,206 ETH</p></div></td><td style=\"text-align:right\"><div class=\"sc-16r8icm-0 g5oqcc-0 drLITg\" style=\"cursor:\"><div class=\"sc-16r8icm-0 g5oqcc-1 eGQXzN\"><p class=\"sc-1eb5slv-0 kZlTnE\" color=\"text\" font-size=\"1\" font-weight=\"medium\">119,237,314 ETH</p></div></div></td><td style=\"text-align:right\"><a class=\"cmc-link\" href=\"/currencies/ethereum/?period=7d\"><img alt=\"ethereum-7d-price-graph\" class=\"h7vnx2-0 bCltOL\" loading=\"lazy\" src=\"https://s3.coinmarketcap.com/generated/sparklines/web/7d/2781/1027.svg\"/></a></td><td><div class=\"sc-16r8icm-0 kjciSH\"><button class=\"x0o17e-0 ftvUnY sc-7pvt85-0 hmFKKb\"><span class=\"icon-More-Vertical\"></span></button></div></td></tr>\n"
     ]
    }
   ],
   "source": [
    "print(trs[0].next_sibling)"
   ]
  },
  {
   "cell_type": "code",
   "execution_count": 14,
   "id": "ee6002df",
   "metadata": {},
   "outputs": [
    {
     "name": "stdout",
     "output_type": "stream",
     "text": [
      "<tr><td><span class=\"sc-80eeb0-1 iuAjRY\"><span class=\"icon-Star\"></span></span></td><td style=\"text-align:left\"><p class=\"sc-1eb5slv-0 etpvrL\" color=\"text2\" font-size=\"0\">1</p></td><td style=\"text-align:left\"><div class=\"sc-16r8icm-0 escjiH\" display=\"flex\"><a class=\"cmc-link\" href=\"/currencies/bitcoin/\"><div class=\"sc-16r8icm-0 sc-1teo54s-0 dBKWCw\"><img alt=\"BTC logo\" class=\"coin-logo\" loading=\"lazy\" src=\"https://s2.coinmarketcap.com/static/img/coins/64x64/1.png\"/><div class=\"sc-16r8icm-0 sc-1teo54s-1 dNOTPP\"><p class=\"sc-1eb5slv-0 iworPT\" color=\"text\" font-size=\"1\" font-weight=\"semibold\">Bitcoin</p><div class=\"sc-1teo54s-2 fZIJcI\"><div class=\"sc-1teo54s-3 etWhyV\">1</div><p class=\"sc-1eb5slv-0 gGIpIK coin-item-symbol\" color=\"text3\" font-size=\"1\">BTC</p></div></div></div></a><div class=\"sc-16r8icm-0 bKmQGi\"><div><div class=\"sc-1x3bens-0 hRpznX\"><button class=\"x0o17e-0 kPvqGV\" style=\"white-space:nowrap;background:var(--theme-light-blue);color:var(--theme-light-blue-font)\">Buy</button></div></div></div></div></td><td><div class=\"sc-131di3y-0 cLgOOr\"><a class=\"cmc-link\" href=\"/currencies/bitcoin/markets/\"><span>$42,078.78</span></a></div></td><td style=\"text-align:right\"><span class=\"sc-15yy2pl-0 hzgCfk\"><span class=\"icon-Caret-down\"></span>0.25<!-- -->%</span></td><td style=\"text-align:right\"><span class=\"sc-15yy2pl-0 hzgCfk\"><span class=\"icon-Caret-down\"></span>3.89<!-- -->%</span></td><td style=\"text-align:right\"><p class=\"sc-1eb5slv-0 hykWbK\" color=\"text\" font-size=\"1\" style=\"white-space:nowrap\"><span class=\"sc-1ow4cwt-0 iosgXe\">$796.77B</span><span class=\"sc-1ow4cwt-1 ieFnWP\">$796,768,343,375</span></p></td><td style=\"text-align:right\"><div class=\"sc-16r8icm-0 j3nwcd-0 cRcnjD\"><a class=\"cmc-link\" href=\"/currencies/bitcoin/markets/\"><p class=\"sc-1eb5slv-0 hykWbK font_weight_500\" color=\"text\" font-size=\"1\">$16,754,220,771</p></a><p class=\"sc-1eb5slv-0 etpvrL\" color=\"text2\" font-size=\"0\">398,163 BTC</p></div></td><td style=\"text-align:right\"><div class=\"sc-16r8icm-0 g5oqcc-0 drLITg\" style=\"cursor:pointer\"><div class=\"sc-16r8icm-0 g5oqcc-1 eGQXzN\"><p class=\"sc-1eb5slv-0 kZlTnE\" color=\"text\" font-size=\"1\" font-weight=\"medium\">18,935,156 BTC</p></div><div class=\"qlsl66-0 jrRnei\" width=\"160\"><div class=\"qlsl66-1 gntWGK\" width=\"145\"></div></div></div></td><td style=\"text-align:right\"><a class=\"cmc-link\" href=\"/currencies/bitcoin/?period=7d\"><img alt=\"bitcoin-7d-price-graph\" class=\"h7vnx2-0 bCltOL\" loading=\"lazy\" src=\"https://s3.coinmarketcap.com/generated/sparklines/web/7d/2781/1.svg\"/></a></td><td><div class=\"sc-16r8icm-0 kjciSH\"><button class=\"x0o17e-0 ftvUnY sc-7pvt85-0 hmFKKb\"><span class=\"icon-More-Vertical\"></span></button></div></td></tr>\n"
     ]
    }
   ],
   "source": [
    "print(trs[1].previous_sibling)"
   ]
  },
  {
   "cell_type": "code",
   "execution_count": 16,
   "id": "f4c70600",
   "metadata": {},
   "outputs": [
    {
     "name": "stdout",
     "output_type": "stream",
     "text": [
      "[<td><span class=\"sc-80eeb0-1 iuAjRY\"><span class=\"icon-Star\"></span></span></td>, <span class=\"sc-80eeb0-1 iuAjRY\"><span class=\"icon-Star\"></span></span>, <span class=\"icon-Star\"></span>, <td style=\"text-align:left\"><p class=\"sc-1eb5slv-0 etpvrL\" color=\"text2\" font-size=\"0\">1</p></td>, <p class=\"sc-1eb5slv-0 etpvrL\" color=\"text2\" font-size=\"0\">1</p>, '1', <td style=\"text-align:left\"><div class=\"sc-16r8icm-0 escjiH\" display=\"flex\"><a class=\"cmc-link\" href=\"/currencies/bitcoin/\"><div class=\"sc-16r8icm-0 sc-1teo54s-0 dBKWCw\"><img alt=\"BTC logo\" class=\"coin-logo\" loading=\"lazy\" src=\"https://s2.coinmarketcap.com/static/img/coins/64x64/1.png\"/><div class=\"sc-16r8icm-0 sc-1teo54s-1 dNOTPP\"><p class=\"sc-1eb5slv-0 iworPT\" color=\"text\" font-size=\"1\" font-weight=\"semibold\">Bitcoin</p><div class=\"sc-1teo54s-2 fZIJcI\"><div class=\"sc-1teo54s-3 etWhyV\">1</div><p class=\"sc-1eb5slv-0 gGIpIK coin-item-symbol\" color=\"text3\" font-size=\"1\">BTC</p></div></div></div></a><div class=\"sc-16r8icm-0 bKmQGi\"><div><div class=\"sc-1x3bens-0 hRpznX\"><button class=\"x0o17e-0 kPvqGV\" style=\"white-space:nowrap;background:var(--theme-light-blue);color:var(--theme-light-blue-font)\">Buy</button></div></div></div></div></td>, <div class=\"sc-16r8icm-0 escjiH\" display=\"flex\"><a class=\"cmc-link\" href=\"/currencies/bitcoin/\"><div class=\"sc-16r8icm-0 sc-1teo54s-0 dBKWCw\"><img alt=\"BTC logo\" class=\"coin-logo\" loading=\"lazy\" src=\"https://s2.coinmarketcap.com/static/img/coins/64x64/1.png\"/><div class=\"sc-16r8icm-0 sc-1teo54s-1 dNOTPP\"><p class=\"sc-1eb5slv-0 iworPT\" color=\"text\" font-size=\"1\" font-weight=\"semibold\">Bitcoin</p><div class=\"sc-1teo54s-2 fZIJcI\"><div class=\"sc-1teo54s-3 etWhyV\">1</div><p class=\"sc-1eb5slv-0 gGIpIK coin-item-symbol\" color=\"text3\" font-size=\"1\">BTC</p></div></div></div></a><div class=\"sc-16r8icm-0 bKmQGi\"><div><div class=\"sc-1x3bens-0 hRpznX\"><button class=\"x0o17e-0 kPvqGV\" style=\"white-space:nowrap;background:var(--theme-light-blue);color:var(--theme-light-blue-font)\">Buy</button></div></div></div></div>, <a class=\"cmc-link\" href=\"/currencies/bitcoin/\"><div class=\"sc-16r8icm-0 sc-1teo54s-0 dBKWCw\"><img alt=\"BTC logo\" class=\"coin-logo\" loading=\"lazy\" src=\"https://s2.coinmarketcap.com/static/img/coins/64x64/1.png\"/><div class=\"sc-16r8icm-0 sc-1teo54s-1 dNOTPP\"><p class=\"sc-1eb5slv-0 iworPT\" color=\"text\" font-size=\"1\" font-weight=\"semibold\">Bitcoin</p><div class=\"sc-1teo54s-2 fZIJcI\"><div class=\"sc-1teo54s-3 etWhyV\">1</div><p class=\"sc-1eb5slv-0 gGIpIK coin-item-symbol\" color=\"text3\" font-size=\"1\">BTC</p></div></div></div></a>, <div class=\"sc-16r8icm-0 sc-1teo54s-0 dBKWCw\"><img alt=\"BTC logo\" class=\"coin-logo\" loading=\"lazy\" src=\"https://s2.coinmarketcap.com/static/img/coins/64x64/1.png\"/><div class=\"sc-16r8icm-0 sc-1teo54s-1 dNOTPP\"><p class=\"sc-1eb5slv-0 iworPT\" color=\"text\" font-size=\"1\" font-weight=\"semibold\">Bitcoin</p><div class=\"sc-1teo54s-2 fZIJcI\"><div class=\"sc-1teo54s-3 etWhyV\">1</div><p class=\"sc-1eb5slv-0 gGIpIK coin-item-symbol\" color=\"text3\" font-size=\"1\">BTC</p></div></div></div>, <img alt=\"BTC logo\" class=\"coin-logo\" loading=\"lazy\" src=\"https://s2.coinmarketcap.com/static/img/coins/64x64/1.png\"/>, <div class=\"sc-16r8icm-0 sc-1teo54s-1 dNOTPP\"><p class=\"sc-1eb5slv-0 iworPT\" color=\"text\" font-size=\"1\" font-weight=\"semibold\">Bitcoin</p><div class=\"sc-1teo54s-2 fZIJcI\"><div class=\"sc-1teo54s-3 etWhyV\">1</div><p class=\"sc-1eb5slv-0 gGIpIK coin-item-symbol\" color=\"text3\" font-size=\"1\">BTC</p></div></div>, <p class=\"sc-1eb5slv-0 iworPT\" color=\"text\" font-size=\"1\" font-weight=\"semibold\">Bitcoin</p>, 'Bitcoin', <div class=\"sc-1teo54s-2 fZIJcI\"><div class=\"sc-1teo54s-3 etWhyV\">1</div><p class=\"sc-1eb5slv-0 gGIpIK coin-item-symbol\" color=\"text3\" font-size=\"1\">BTC</p></div>, <div class=\"sc-1teo54s-3 etWhyV\">1</div>, '1', <p class=\"sc-1eb5slv-0 gGIpIK coin-item-symbol\" color=\"text3\" font-size=\"1\">BTC</p>, 'BTC', <div class=\"sc-16r8icm-0 bKmQGi\"><div><div class=\"sc-1x3bens-0 hRpznX\"><button class=\"x0o17e-0 kPvqGV\" style=\"white-space:nowrap;background:var(--theme-light-blue);color:var(--theme-light-blue-font)\">Buy</button></div></div></div>, <div><div class=\"sc-1x3bens-0 hRpznX\"><button class=\"x0o17e-0 kPvqGV\" style=\"white-space:nowrap;background:var(--theme-light-blue);color:var(--theme-light-blue-font)\">Buy</button></div></div>, <div class=\"sc-1x3bens-0 hRpznX\"><button class=\"x0o17e-0 kPvqGV\" style=\"white-space:nowrap;background:var(--theme-light-blue);color:var(--theme-light-blue-font)\">Buy</button></div>, <button class=\"x0o17e-0 kPvqGV\" style=\"white-space:nowrap;background:var(--theme-light-blue);color:var(--theme-light-blue-font)\">Buy</button>, 'Buy', <td><div class=\"sc-131di3y-0 cLgOOr\"><a class=\"cmc-link\" href=\"/currencies/bitcoin/markets/\"><span>$42,078.78</span></a></div></td>, <div class=\"sc-131di3y-0 cLgOOr\"><a class=\"cmc-link\" href=\"/currencies/bitcoin/markets/\"><span>$42,078.78</span></a></div>, <a class=\"cmc-link\" href=\"/currencies/bitcoin/markets/\"><span>$42,078.78</span></a>, <span>$42,078.78</span>, '$42,078.78', <td style=\"text-align:right\"><span class=\"sc-15yy2pl-0 hzgCfk\"><span class=\"icon-Caret-down\"></span>0.25<!-- -->%</span></td>, <span class=\"sc-15yy2pl-0 hzgCfk\"><span class=\"icon-Caret-down\"></span>0.25<!-- -->%</span>, <span class=\"icon-Caret-down\"></span>, '0.25', ' ', '%', <td style=\"text-align:right\"><span class=\"sc-15yy2pl-0 hzgCfk\"><span class=\"icon-Caret-down\"></span>3.89<!-- -->%</span></td>, <span class=\"sc-15yy2pl-0 hzgCfk\"><span class=\"icon-Caret-down\"></span>3.89<!-- -->%</span>, <span class=\"icon-Caret-down\"></span>, '3.89', ' ', '%', <td style=\"text-align:right\"><p class=\"sc-1eb5slv-0 hykWbK\" color=\"text\" font-size=\"1\" style=\"white-space:nowrap\"><span class=\"sc-1ow4cwt-0 iosgXe\">$796.77B</span><span class=\"sc-1ow4cwt-1 ieFnWP\">$796,768,343,375</span></p></td>, <p class=\"sc-1eb5slv-0 hykWbK\" color=\"text\" font-size=\"1\" style=\"white-space:nowrap\"><span class=\"sc-1ow4cwt-0 iosgXe\">$796.77B</span><span class=\"sc-1ow4cwt-1 ieFnWP\">$796,768,343,375</span></p>, <span class=\"sc-1ow4cwt-0 iosgXe\">$796.77B</span>, '$796.77B', <span class=\"sc-1ow4cwt-1 ieFnWP\">$796,768,343,375</span>, '$796,768,343,375', <td style=\"text-align:right\"><div class=\"sc-16r8icm-0 j3nwcd-0 cRcnjD\"><a class=\"cmc-link\" href=\"/currencies/bitcoin/markets/\"><p class=\"sc-1eb5slv-0 hykWbK font_weight_500\" color=\"text\" font-size=\"1\">$16,754,220,771</p></a><p class=\"sc-1eb5slv-0 etpvrL\" color=\"text2\" font-size=\"0\">398,163 BTC</p></div></td>, <div class=\"sc-16r8icm-0 j3nwcd-0 cRcnjD\"><a class=\"cmc-link\" href=\"/currencies/bitcoin/markets/\"><p class=\"sc-1eb5slv-0 hykWbK font_weight_500\" color=\"text\" font-size=\"1\">$16,754,220,771</p></a><p class=\"sc-1eb5slv-0 etpvrL\" color=\"text2\" font-size=\"0\">398,163 BTC</p></div>, <a class=\"cmc-link\" href=\"/currencies/bitcoin/markets/\"><p class=\"sc-1eb5slv-0 hykWbK font_weight_500\" color=\"text\" font-size=\"1\">$16,754,220,771</p></a>, <p class=\"sc-1eb5slv-0 hykWbK font_weight_500\" color=\"text\" font-size=\"1\">$16,754,220,771</p>, '$16,754,220,771', <p class=\"sc-1eb5slv-0 etpvrL\" color=\"text2\" font-size=\"0\">398,163 BTC</p>, '398,163 BTC', <td style=\"text-align:right\"><div class=\"sc-16r8icm-0 g5oqcc-0 drLITg\" style=\"cursor:pointer\"><div class=\"sc-16r8icm-0 g5oqcc-1 eGQXzN\"><p class=\"sc-1eb5slv-0 kZlTnE\" color=\"text\" font-size=\"1\" font-weight=\"medium\">18,935,156 BTC</p></div><div class=\"qlsl66-0 jrRnei\" width=\"160\"><div class=\"qlsl66-1 gntWGK\" width=\"145\"></div></div></div></td>, <div class=\"sc-16r8icm-0 g5oqcc-0 drLITg\" style=\"cursor:pointer\"><div class=\"sc-16r8icm-0 g5oqcc-1 eGQXzN\"><p class=\"sc-1eb5slv-0 kZlTnE\" color=\"text\" font-size=\"1\" font-weight=\"medium\">18,935,156 BTC</p></div><div class=\"qlsl66-0 jrRnei\" width=\"160\"><div class=\"qlsl66-1 gntWGK\" width=\"145\"></div></div></div>, <div class=\"sc-16r8icm-0 g5oqcc-1 eGQXzN\"><p class=\"sc-1eb5slv-0 kZlTnE\" color=\"text\" font-size=\"1\" font-weight=\"medium\">18,935,156 BTC</p></div>, <p class=\"sc-1eb5slv-0 kZlTnE\" color=\"text\" font-size=\"1\" font-weight=\"medium\">18,935,156 BTC</p>, '18,935,156 BTC', <div class=\"qlsl66-0 jrRnei\" width=\"160\"><div class=\"qlsl66-1 gntWGK\" width=\"145\"></div></div>, <div class=\"qlsl66-1 gntWGK\" width=\"145\"></div>, <td style=\"text-align:right\"><a class=\"cmc-link\" href=\"/currencies/bitcoin/?period=7d\"><img alt=\"bitcoin-7d-price-graph\" class=\"h7vnx2-0 bCltOL\" loading=\"lazy\" src=\"https://s3.coinmarketcap.com/generated/sparklines/web/7d/2781/1.svg\"/></a></td>, <a class=\"cmc-link\" href=\"/currencies/bitcoin/?period=7d\"><img alt=\"bitcoin-7d-price-graph\" class=\"h7vnx2-0 bCltOL\" loading=\"lazy\" src=\"https://s3.coinmarketcap.com/generated/sparklines/web/7d/2781/1.svg\"/></a>, <img alt=\"bitcoin-7d-price-graph\" class=\"h7vnx2-0 bCltOL\" loading=\"lazy\" src=\"https://s3.coinmarketcap.com/generated/sparklines/web/7d/2781/1.svg\"/>, <td><div class=\"sc-16r8icm-0 kjciSH\"><button class=\"x0o17e-0 ftvUnY sc-7pvt85-0 hmFKKb\"><span class=\"icon-More-Vertical\"></span></button></div></td>, <div class=\"sc-16r8icm-0 kjciSH\"><button class=\"x0o17e-0 ftvUnY sc-7pvt85-0 hmFKKb\"><span class=\"icon-More-Vertical\"></span></button></div>, <button class=\"x0o17e-0 ftvUnY sc-7pvt85-0 hmFKKb\"><span class=\"icon-More-Vertical\"></span></button>, <span class=\"icon-More-Vertical\"></span>]\n"
     ]
    }
   ],
   "source": [
    "print(list(trs[0].descendants))"
   ]
  },
  {
   "cell_type": "code",
   "execution_count": 17,
   "id": "5149fdac",
   "metadata": {},
   "outputs": [],
   "source": [
    "prices = {}"
   ]
  },
  {
   "cell_type": "code",
   "execution_count": 33,
   "id": "765e5cf5",
   "metadata": {},
   "outputs": [
    {
     "name": "stdout",
     "output_type": "stream",
     "text": [
      "{'Bitcoin': '$42,078.78', 'Ethereum': '$3,140.42', 'Tether': '$1.00', 'BNB': '$462.80', 'USD Coin': '$0.9999', 'Cardano': '$1.35', 'Solana': '$137.52', 'XRP': '$0.743', 'Terra': '$82.11', 'Polkadot': '$24.50'}\n"
     ]
    }
   ],
   "source": [
    "for tr in trs[:10]:\n",
    "    name, price = tr.contents[2:4]\n",
    "    fixed_name = name.p.string\n",
    "    fixed_price = price.a.string\n",
    "    prices[fixed_name] = fixed_price\n",
    "print(prices)"
   ]
  }
 ],
 "metadata": {
  "kernelspec": {
   "display_name": "Python 3 (ipykernel)",
   "language": "python",
   "name": "python3"
  },
  "language_info": {
   "codemirror_mode": {
    "name": "ipython",
    "version": 3
   },
   "file_extension": ".py",
   "mimetype": "text/x-python",
   "name": "python",
   "nbconvert_exporter": "python",
   "pygments_lexer": "ipython3",
   "version": "3.9.7"
  }
 },
 "nbformat": 4,
 "nbformat_minor": 5
}
